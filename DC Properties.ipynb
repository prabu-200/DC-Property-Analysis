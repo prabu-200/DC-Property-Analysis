{
 "cells": [
  {
   "cell_type": "code",
   "execution_count": 1,
   "metadata": {},
   "outputs": [],
   "source": [
    "#importing library\n",
    "\n",
    "import pandas as pd\n",
    "import numpy as np"
   ]
  },
  {
   "cell_type": "code",
   "execution_count": 2,
   "metadata": {},
   "outputs": [
    {
     "name": "stderr",
     "output_type": "stream",
     "text": [
      "C:\\Anaconda\\lib\\site-packages\\IPython\\core\\interactiveshell.py:3049: DtypeWarning: Columns (18,19,20,21,22,23,24,33,34,35,37,43,45) have mixed types. Specify dtype option on import or set low_memory=False.\n",
      "  interactivity=interactivity, compiler=compiler, result=result)\n"
     ]
    }
   ],
   "source": [
    "#reading datasets\n",
    "\n",
    "df_DC_Properties = pd.read_csv('DataAnalytics\\DataSets\\DC_Properties.csv')\n",
    "#dtype={'NUM_UNITS':int,'AYB': int, 'YR_RMDL':int, 'STORIES': int,'KITCHENS': int,'ZIPCODE':int  }\n",
    "df_DC_Properties=df_DC_Properties.fillna(0)\n",
    "df_DC_Properties=df_DC_Properties.astype(dtype={'NUM_UNITS':int,'AYB': int, 'YR_RMDL':int, 'STORIES': int,'KITCHENS': int,'ZIPCODE':int  })"
   ]
  },
  {
   "cell_type": "code",
   "execution_count": 3,
   "metadata": {
    "scrolled": true
   },
   "outputs": [
    {
     "data": {
      "text/plain": [
       "Unnamed: 0              int64\n",
       "BATHRM                  int64\n",
       "HF_BATHRM               int64\n",
       "HEAT                   object\n",
       "AC                     object\n",
       "NUM_UNITS               int32\n",
       "ROOMS                   int64\n",
       "BEDRM                   int64\n",
       "AYB                     int32\n",
       "YR_RMDL                 int32\n",
       "EYB                     int64\n",
       "STORIES                 int32\n",
       "SALEDATE               object\n",
       "PRICE                 float64\n",
       "QUALIFIED              object\n",
       "SALE_NUM                int64\n",
       "GBA                   float64\n",
       "BLDG_NUM                int64\n",
       "STYLE                  object\n",
       "STRUCT                 object\n",
       "GRADE                  object\n",
       "CNDTN                  object\n",
       "EXTWALL                object\n",
       "ROOF                   object\n",
       "INTWALL                object\n",
       "KITCHENS                int32\n",
       "FIREPLACES              int64\n",
       "USECODE                 int64\n",
       "LANDAREA                int64\n",
       "GIS_LAST_MOD_DTTM      object\n",
       "SOURCE                 object\n",
       "CMPLX_NUM             float64\n",
       "LIVING_GBA            float64\n",
       "FULLADDRESS            object\n",
       "CITY                   object\n",
       "STATE                  object\n",
       "ZIPCODE                 int32\n",
       "NATIONALGRID           object\n",
       "LATITUDE              float64\n",
       "LONGITUDE             float64\n",
       "ASSESSMENT_NBHD        object\n",
       "ASSESSMENT_SUBNBHD     object\n",
       "CENSUS_TRACT          float64\n",
       "CENSUS_BLOCK           object\n",
       "WARD                   object\n",
       "SQUARE                 object\n",
       "X                     float64\n",
       "Y                     float64\n",
       "QUADRANT               object\n",
       "dtype: object"
      ]
     },
     "execution_count": 3,
     "metadata": {},
     "output_type": "execute_result"
    }
   ],
   "source": [
    "df_DC_Properties.dtypes"
   ]
  },
  {
   "cell_type": "code",
   "execution_count": 4,
   "metadata": {},
   "outputs": [
    {
     "data": {
      "text/plain": [
       "20011    16352\n",
       "20002    16310\n",
       "20009    13171\n",
       "20019    12458\n",
       "20016    10644\n",
       "20001    10549\n",
       "20020     9805\n",
       "20007     9029\n",
       "20003     8015\n",
       "20008     6801\n",
       "20010     6428\n",
       "20018     5670\n",
       "20017     5622\n",
       "20015     5337\n",
       "20032     5111\n",
       "20012     4118\n",
       "20037     3730\n",
       "20005     3404\n",
       "20024     3105\n",
       "20036     1892\n",
       "20004     1082\n",
       "20392      186\n",
       "20006      118\n",
       "20052       19\n",
       "0            1\n",
       "Name: ZIPCODE, dtype: int64"
      ]
     },
     "execution_count": 4,
     "metadata": {},
     "output_type": "execute_result"
    }
   ],
   "source": [
    "# Houses per ZIP code\n",
    "\n",
    "pd.value_counts(df_DC_Properties['ZIPCODE'])"
   ]
  },
  {
   "cell_type": "code",
   "execution_count": 5,
   "metadata": {},
   "outputs": [
    {
     "data": {
      "text/html": [
       "<div>\n",
       "<style scoped>\n",
       "    .dataframe tbody tr th:only-of-type {\n",
       "        vertical-align: middle;\n",
       "    }\n",
       "\n",
       "    .dataframe tbody tr th {\n",
       "        vertical-align: top;\n",
       "    }\n",
       "\n",
       "    .dataframe thead th {\n",
       "        text-align: right;\n",
       "    }\n",
       "</style>\n",
       "<table border=\"1\" class=\"dataframe\">\n",
       "  <thead>\n",
       "    <tr style=\"text-align: right;\">\n",
       "      <th></th>\n",
       "      <th>Unnamed: 0</th>\n",
       "      <th>BATHRM</th>\n",
       "      <th>HF_BATHRM</th>\n",
       "      <th>HEAT</th>\n",
       "      <th>AC</th>\n",
       "      <th>NUM_UNITS</th>\n",
       "      <th>ROOMS</th>\n",
       "      <th>BEDRM</th>\n",
       "      <th>AYB</th>\n",
       "      <th>YR_RMDL</th>\n",
       "      <th>...</th>\n",
       "      <th>LONGITUDE</th>\n",
       "      <th>ASSESSMENT_NBHD</th>\n",
       "      <th>ASSESSMENT_SUBNBHD</th>\n",
       "      <th>CENSUS_TRACT</th>\n",
       "      <th>CENSUS_BLOCK</th>\n",
       "      <th>WARD</th>\n",
       "      <th>SQUARE</th>\n",
       "      <th>X</th>\n",
       "      <th>Y</th>\n",
       "      <th>QUADRANT</th>\n",
       "    </tr>\n",
       "  </thead>\n",
       "  <tbody>\n",
       "  </tbody>\n",
       "</table>\n",
       "<p>0 rows × 49 columns</p>\n",
       "</div>"
      ],
      "text/plain": [
       "Empty DataFrame\n",
       "Columns: [Unnamed: 0, BATHRM, HF_BATHRM, HEAT, AC, NUM_UNITS, ROOMS, BEDRM, AYB, YR_RMDL, EYB, STORIES, SALEDATE, PRICE, QUALIFIED, SALE_NUM, GBA, BLDG_NUM, STYLE, STRUCT, GRADE, CNDTN, EXTWALL, ROOF, INTWALL, KITCHENS, FIREPLACES, USECODE, LANDAREA, GIS_LAST_MOD_DTTM, SOURCE, CMPLX_NUM, LIVING_GBA, FULLADDRESS, CITY, STATE, ZIPCODE, NATIONALGRID, LATITUDE, LONGITUDE, ASSESSMENT_NBHD, ASSESSMENT_SUBNBHD, CENSUS_TRACT, CENSUS_BLOCK, WARD, SQUARE, X, Y, QUADRANT]\n",
       "Index: []\n",
       "\n",
       "[0 rows x 49 columns]"
      ]
     },
     "execution_count": 5,
     "metadata": {},
     "output_type": "execute_result"
    }
   ],
   "source": [
    "## Find duplicate rows\n",
    "\n",
    "df_DC_Properties.loc[df_DC_Properties.duplicated()]\n",
    "\n",
    "# No duplicate records found"
   ]
  },
  {
   "cell_type": "code",
   "execution_count": 6,
   "metadata": {},
   "outputs": [],
   "source": [
    "#drop the coloumn which has no reference\n",
    "\n",
    "df_DC_Properties=df_DC_Properties.drop('Unnamed: 0',axis=1)"
   ]
  },
  {
   "cell_type": "code",
   "execution_count": 7,
   "metadata": {},
   "outputs": [],
   "source": [
    "#Drop rows with out any value\n",
    "\n",
    "df_DC_Properties=df_DC_Properties.dropna()"
   ]
  },
  {
   "cell_type": "code",
   "execution_count": 8,
   "metadata": {},
   "outputs": [],
   "source": [
    "#clean the ZIP Code data\n",
    "df_DC_Properties['ZIPCODE'] = np.where(df_DC_Properties['ZIPCODE']==0, '20009',df_DC_Properties['ZIPCODE'])\n",
    "df_DC_Properties=df_DC_Properties.astype(dtype={'ZIPCODE':int  })"
   ]
  },
  {
   "cell_type": "code",
   "execution_count": 32,
   "metadata": {},
   "outputs": [
    {
     "data": {
      "text/plain": [
       "ZIPCODE\n",
       "20001     380499.0\n",
       "20002     301602.0\n",
       "20003     391474.0\n",
       "20004     393378.0\n",
       "20005    2255303.0\n",
       "20006     114556.0\n",
       "20007     595085.0\n",
       "20008     518559.0\n",
       "20009     455009.0\n",
       "20010     334356.0\n",
       "20011     230416.0\n",
       "20012     234874.0\n",
       "20015     433471.0\n",
       "20016    3591286.0\n",
       "20017     201099.0\n",
       "20018     202262.0\n",
       "20019     127016.0\n",
       "20020     124276.0\n",
       "20024     275390.0\n",
       "20032     179547.0\n",
       "20036     264867.0\n",
       "20037     420841.0\n",
       "20052     198158.0\n",
       "20392     240115.0\n",
       "Name: PRICE, dtype: float64"
      ]
     },
     "execution_count": 32,
     "metadata": {},
     "output_type": "execute_result"
    }
   ],
   "source": [
    "#Median price per Zip Code\n",
    "#df_DC_Properties['PRICE'].median()\n",
    "#df_DC_Properties['PRICE'].groupby(df_DC_Properties['ZIPCODE']).median()\n",
    "df_DC_Properties['PRICE'].groupby(df_DC_Properties['ZIPCODE']).mean().round()"
   ]
  },
  {
   "cell_type": "code",
   "execution_count": 33,
   "metadata": {},
   "outputs": [
    {
     "data": {
      "text/plain": [
       "Y    114620\n",
       "N     44272\n",
       "0        65\n",
       "Name: AC, dtype: int64"
      ]
     },
     "execution_count": 33,
     "metadata": {},
     "output_type": "execute_result"
    }
   ],
   "source": [
    "#Number of houses having AC\n",
    "pd.value_counts(df_DC_Properties['AC'])"
   ]
  },
  {
   "cell_type": "code",
   "execution_count": 34,
   "metadata": {},
   "outputs": [
    {
     "data": {
      "text/plain": [
       "Y    114620\n",
       "N     44337\n",
       "Name: AC, dtype: int64"
      ]
     },
     "execution_count": 34,
     "metadata": {},
     "output_type": "execute_result"
    }
   ],
   "source": [
    "#Clean AC column value\n",
    "df_DC_Properties['AC'] = np.where(df_DC_Properties['AC']=='0','N',df_DC_Properties['AC'])\n",
    "pd.value_counts(df_DC_Properties['AC'])"
   ]
  },
  {
   "cell_type": "code",
   "execution_count": 35,
   "metadata": {},
   "outputs": [
    {
     "data": {
      "text/plain": [
       "AC\n",
       "N    1954\n",
       "Y    1967\n",
       "Name: EYB, dtype: int64"
      ]
     },
     "execution_count": 35,
     "metadata": {},
     "output_type": "execute_result"
    }
   ],
   "source": [
    "#Median year when was AC was normal in the houses in DC\n",
    "\n",
    "df_DC_Properties['EYB'].groupby(df_DC_Properties['AC']).median()"
   ]
  },
  {
   "cell_type": "code",
   "execution_count": 36,
   "metadata": {
    "scrolled": true
   },
   "outputs": [
    {
     "data": {
      "text/plain": [
       "EYB\n",
       "1800    5.0\n",
       "1820    3.5\n",
       "1865    3.0\n",
       "1870    5.0\n",
       "1875    5.0\n",
       "1876    4.5\n",
       "1880    5.0\n",
       "1885    3.0\n",
       "1886    4.0\n",
       "1887    4.0\n",
       "1890    3.0\n",
       "1891    2.0\n",
       "1893    4.0\n",
       "1895    3.0\n",
       "1898    4.0\n",
       "1899    2.0\n",
       "1900    4.0\n",
       "1901    3.0\n",
       "1902    3.0\n",
       "1903    3.0\n",
       "1904    5.0\n",
       "1905    4.0\n",
       "1906    4.0\n",
       "1907    4.0\n",
       "1908    4.0\n",
       "1909    4.0\n",
       "1910    4.0\n",
       "1911    4.0\n",
       "1912    4.0\n",
       "1913    3.0\n",
       "       ... \n",
       "1989    4.0\n",
       "1990    6.0\n",
       "1991    5.0\n",
       "1992    8.0\n",
       "1993    8.0\n",
       "1994    6.0\n",
       "1995    7.0\n",
       "1996    8.0\n",
       "1997    8.0\n",
       "1998    7.0\n",
       "1999    8.0\n",
       "2000    8.0\n",
       "2001    7.0\n",
       "2002    4.0\n",
       "2003    4.0\n",
       "2004    4.0\n",
       "2005    4.0\n",
       "2006    4.0\n",
       "2007    4.0\n",
       "2008    4.0\n",
       "2009    5.0\n",
       "2010    7.0\n",
       "2011    6.0\n",
       "2012    7.0\n",
       "2013    5.0\n",
       "2014    6.0\n",
       "2015    6.0\n",
       "2016    4.0\n",
       "2017    7.0\n",
       "2018    8.0\n",
       "Name: ROOMS, Length: 135, dtype: float64"
      ]
     },
     "execution_count": 36,
     "metadata": {},
     "output_type": "execute_result"
    }
   ],
   "source": [
    "df_DC_Properties['ROOMS'].groupby(df_DC_Properties['EYB']).median()"
   ]
  },
  {
   "cell_type": "code",
   "execution_count": null,
   "metadata": {},
   "outputs": [],
   "source": [
    "#Number of houses in a range of Year\n",
    "\n",
    "bins = np.arange(df_DC_Properties.EYB.min(),df_DC_Properties.EYB.max()+20, 20)\n",
    "groups =np.arange(df_DC_Properties.EYB.min(),df_DC_Properties.EYB.max(), 20)\n",
    "df_DC_Properties['Year Range']= pd.cut(df_DC_Properties['EYB'],bins, labels=groups)\n",
    "pd.value_counts(df_DC_Properties['Year Range']).sort_index()\n",
    "\n",
    "#inference: More number of houses were built in 1960 to 1980"
   ]
  },
  {
   "cell_type": "code",
   "execution_count": null,
   "metadata": {},
   "outputs": [],
   "source": [
    "df_DC_Properties.plot.bar(x='EYB', y='ROOMS', rot=0)"
   ]
  }
 ],
 "metadata": {
  "kernelspec": {
   "display_name": "Python 3",
   "language": "python",
   "name": "python3"
  },
  "language_info": {
   "codemirror_mode": {
    "name": "ipython",
    "version": 3
   },
   "file_extension": ".py",
   "mimetype": "text/x-python",
   "name": "python",
   "nbconvert_exporter": "python",
   "pygments_lexer": "ipython3",
   "version": "3.7.3"
  }
 },
 "nbformat": 4,
 "nbformat_minor": 2
}
